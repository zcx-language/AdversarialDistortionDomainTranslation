{
 "cells": [
  {
   "cell_type": "code",
   "execution_count": 1,
   "metadata": {
    "ExecuteTime": {
     "end_time": "2024-01-23T07:07:45.305393636Z",
     "start_time": "2024-01-23T07:07:43.980028849Z"
    }
   },
   "outputs": [],
   "source": [
    "import numpy as np\n",
    "import cv2\n",
    "import torch\n",
    "import torch.nn as nn\n",
    "\n",
    "from PIL import Image\n",
    "from pathlib import Path"
   ]
  },
  {
   "cell_type": "code",
   "execution_count": 13,
   "metadata": {},
   "outputs": [
    {
     "name": "stderr",
     "output_type": "stream",
     "text": [
      "\n",
      "(eog:3133061): Gtk-WARNING **: 21:22:31.963: Theme parsing error: main-dark.css:2470:0: Expected a valid selector\n",
      "\n",
      "(eog:3133061): Gtk-WARNING **: 21:22:32.004: Theme parsing error: main-dark.css:2470:0: Expected a valid selector\n"
     ]
    }
   ],
   "source": [
    "host_007 = cv2.cvtColor(cv2.imread('../data/v2/jpeg/007/007.png'), cv2.COLOR_BGR2RGB).resize((128, 128))\n",
    "container_007 = np.array(Image.open('../data/v2/jpeg/007/container.jpg').convert('RGB'))\n",
    "diff = cv2.cvtColor(cv2.imread('../data/v2/jpeg/007/diff_hot_container.jpg'), cv2.COLOR_BGR2RGB)\n",
    "Image.fromarray(np.clip(diff * 5, 0, 255)).show()"
   ]
  },
  {
   "cell_type": "code",
   "execution_count": 14,
   "metadata": {},
   "outputs": [
    {
     "name": "stderr",
     "output_type": "stream",
     "text": [
      "\n",
      "(eog:3138447): Gtk-WARNING **: 21:43:08.564: Theme parsing error: main-dark.css:2470:0: Expected a valid selector\n",
      "\n",
      "(eog:3138447): Gtk-WARNING **: 21:43:08.606: Theme parsing error: main-dark.css:2470:0: Expected a valid selector\n"
     ]
    }
   ],
   "source": [
    "diff = cv2.cvtColor(cv2.imread('../data/v2/jpeg2000/008/diff_hot_container.jpg'), cv2.COLOR_BGR2RGB)\n",
    "Image.fromarray(np.clip(diff*5, 0, 255)).show()"
   ]
  },
  {
   "cell_type": "code",
   "execution_count": 23,
   "metadata": {},
   "outputs": [],
   "source": [
    "diff = cv2.cvtColor(cv2.imread('../data/v2/webp/009/diff_hot_container.jpg'), cv2.COLOR_BGR2RGB)\n",
    "Image.fromarray(np.clip(diff*10, 0, 255)).show()"
   ]
  },
  {
   "cell_type": "code",
   "execution_count": 24,
   "metadata": {},
   "outputs": [],
   "source": [
    "diff = cv2.cvtColor(cv2.imread('../data/v2/rainy/010/diff_hot_container.jpg'), cv2.COLOR_BGR2RGB)\n",
    "Image.fromarray(np.clip(diff*10, 0, 255)).show()"
   ]
  },
  {
   "cell_type": "code",
   "execution_count": 22,
   "metadata": {},
   "outputs": [],
   "source": [
    "diff = cv2.cvtColor(cv2.imread('../data/v2/emboss/002/diff_hot_container.jpg'), cv2.COLOR_BGR2RGB)\n",
    "Image.fromarray(np.clip(diff*10, 0, 255)).show()"
   ]
  },
  {
   "cell_type": "code",
   "execution_count": 21,
   "metadata": {},
   "outputs": [],
   "source": [
    "\n",
    "diff = cv2.cvtColor(cv2.imread('../data/v2/fisheye/003/diff_hot_container.jpg'), cv2.COLOR_BGR2RGB)\n",
    "Image.fromarray(np.clip(diff*10, 0, 255)).show()\n"
   ]
  },
  {
   "cell_type": "code",
   "execution_count": 12,
   "metadata": {
    "ExecuteTime": {
     "end_time": "2024-01-23T07:13:12.501950570Z",
     "start_time": "2024-01-23T07:13:12.467215005Z"
    }
   },
   "outputs": [
    {
     "name": "stderr",
     "output_type": "stream",
     "text": [
      "fileIns \"/tmp/tmpp3wq70oi.PNG\"\n",
      "fileIns \"/tmp/tmpp3wq70oi.PNG\"\n",
      "fileIns \"/tmp/tmpp3wq70oi.PNG\"\n",
      "fileIns \"/tmp/tmpp3wq70oi.PNG\"\n"
     ]
    }
   ],
   "source": [
    "from matplotlib import pyplot as plt\n",
    "image = cv2.imread('/home/chengxin/Desktop/my.png')\n",
    "image = cv2.cvtColor(image, cv2.COLOR_BGR2RGB)\n",
    "image = cv2.resize(image, (128, 128))\n",
    "\n",
    "text = 'Hello, OpenCV!'\n",
    "font = cv2.FONT_HERSHEY_SIMPLEX\n",
    "font_scale = 0.3\n",
    "font_thickness = 1\n",
    "font_color = (255, 255, 255)  # White color in BGR format\n",
    "position = (10, 10)  # Position where the text will be placed\n",
    "\n",
    "# Put the text on the image\n",
    "cv2.putText(image, text, position, font, font_scale, font_color, font_thickness)\n",
    "Image.fromarray(image).show()"
   ]
  },
  {
   "cell_type": "code",
   "execution_count": null,
   "outputs": [],
   "source": [],
   "metadata": {
    "collapsed": false
   }
  }
 ],
 "metadata": {
  "kernelspec": {
   "display_name": "pytorch12",
   "language": "python",
   "name": "python3"
  },
  "language_info": {
   "codemirror_mode": {
    "name": "ipython",
    "version": 3
   },
   "file_extension": ".py",
   "mimetype": "text/x-python",
   "name": "python",
   "nbconvert_exporter": "python",
   "pygments_lexer": "ipython3",
   "version": "3.9.13"
  },
  "orig_nbformat": 4
 },
 "nbformat": 4,
 "nbformat_minor": 2
}
